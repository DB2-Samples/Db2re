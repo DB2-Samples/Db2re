{
 "cells": [
  {
   "cell_type": "markdown",
   "metadata": {},
   "source": [
    "# Db2 (RESTful) Jupyter Notebook Extensions Tutorial\n",
    "\n",
    "The SQL code tutorials for Db2 rely on a Jupyter notebook extension, commonly refer to as a \"magic\" command. The beginning of all of the notebooks begin with the following command which will load the extension and allow the remainder of the notebook to use the `%sql` magic command.\n",
    "<pre>\n",
    "&#37;run db2re.ipynb\n",
    "</pre>\n",
    "\n",
    "This code defines a Jupyter/Python magic command called `%sql` which allows you to execute Db2 specific calls to \n",
    "the database. There are other packages available for manipulating databases, but this one has been specifically\n",
    "designed for demonstrating a number of the SQL features available in Db2 using RESTful calls. Note that this code will **only** work for a Db2 on Cloud instance and is not supported for connecting to a standard Db2 server. To use this code on with a Db2 server run the **`db2.ipynb`** command instead.\n",
    "\n",
    "There are two ways of executing the `%sql` command. A single line SQL statement would use the\n",
    "line format of the magic command:\n",
    "<pre>\n",
    "%sql SELECT * FROM EMPLOYEE\n",
    "</pre>\n",
    "\n",
    "If you have a large block of sql then you would place the `%%sql` command at the beginning of the block and then\n",
    "place the SQL statements into the remainder of the block. Using this form of the `%%sql` statement means that the\n",
    "notebook cell can only contain SQL and no other statements.\n",
    "<pre>\n",
    "%%sql\n",
    "SELECT * FROM EMPLOYEE\n",
    "ORDER BY LASTNAME\n",
    "</pre>\n",
    "\n",
    "You can have multiple lines in the SQL block (`%%sql`). The default SQL delimiter is the semi-column (`;`).\n",
    "If you have scripts (triggers, procedures, functions) that use the semi-colon as part of the script, you \n",
    "will need to use the `-d` option to change the delimiter to an at @ sign. \n",
    "<pre>\n",
    "%%sql -d\n",
    "SELECT * FROM EMPLOYEE\n",
    "@\n",
    "CREATE PROCEDURE ...\n",
    "@\n",
    "</pre>\n",
    "\n",
    "The `%sql` command allows most DB2 commands to execute and has a special version of the CONNECT statement. \n",
    "\n",
    "The CONNECT command has the following format:\n",
    "<pre>\n",
    "%sql CONNECT CREDENTIALS <variable>\n",
    "</pre>\n",
    "\n",
    "The `CREDENTIALS` can be supplied as a variable in which case the contents will be used to create an access token to the database and if successful, the variable will be saved to disk for future use. If you create another notebook and use the identical syntax, if the variable is not defined, the contents on disk will be used as the credentials. You should assign the credentials to a variable that represents the database (or schema) that you are communicating with. Using familiar names makes it easier to remember the credentials when connecting. \n",
    "\n",
    "For example, if the credentials are assigned to a variable called sample:\n",
    "```python\n",
    "sample = \\\n",
    "{\n",
    "... credentials ...\n",
    "}\n",
    "```\n",
    "Then the connect statement would be:\n",
    "```\n",
    "%sql connect credentials sample\n",
    "```\n",
    "If you open up a new notebook, you will not have to create the sample variable with the credentials in it. The `%sql connect` command will determine that the variable does not exist and will read the contents of the file with the same name `sample.pickle` and retrieve the credentials that way."
   ]
  },
  {
   "cell_type": "markdown",
   "metadata": {},
   "source": [
    "In addition to the -d option, there are a number different options that you can specify at the beginning of \n",
    "the SQL. Some of these options can only be used for single line commands (**`%sql`**) while others can be used for both forms of the command. \n",
    "\n",
    "### Options for **`%sql`** commands only\n",
    "\n",
    "   - `-r` - Return the result set as an array of values instead of a dataframe\n",
    "   - `-sampledata` - Create and load the EMPLOYEE and DEPARTMENT sample tables\n",
    "   \n",
    "The `-sampledata` flag will create the sample tables and not process any SQL statements that may be in your `%sql` block. The `-r` flag is meant for returning an answer set back to a variable. For intance:\n",
    "\n",
    "```python\n",
    "results = %sql -r select * from employee\n",
    "```\n",
    "\n",
    "You can only run SQL statements within an `%%sql` block, so the statement above would not work. If you have a large SQL statement that you want to assign to a variable, you can use one of two approaches. The first option is to place the contents of your SQL statement into a variable:\n",
    "\n",
    "```python\n",
    "somesql = \"\"\"\n",
    "SELECT * \n",
    "FROM EMPLOYEE\n",
    "\"\"\"\n",
    "```\n",
    "\n",
    "Then you can issue the `%sql` call using the form:\n",
    "\n",
    "```python\n",
    "results = %sql -r {somesql}\n",
    "```\n",
    "\n",
    "The Python interpreter will take the contents of the variable `somesql` and place it into the command. The other option is to use Python line continuation characters. To extend the command beyond one line, place a `\\` at the end of each line:\n",
    "\n",
    "```python\n",
    "results = %sql -r \\\n",
    "SELECT * \\\n",
    "FROM EMPLOYEE \n",
    "```\n",
    "   \n",
    "### Options for **`%%sql`** and **`%sql`** commands\n",
    "\n",
    "   - `-d` - Delimiter: Change SQL delimiter to \"`@`\" from \"`;`\"\n",
    "   - `-q` - Quiet: Quiet results - no messages returned from the function\n",
    "   - `-a` - All: Display all rows in answer set and do not limit the rows displayed\n",
    "   - `-e` - Any macro expansions are displayed in an output box \n",
    "   \n",
    "### Options for **`%%sql`** and **`%sql`** Commands that Terminate Blocks\n",
    "\n",
    "These options will work with both forms of the `%sql` magic command, but will only execute on one SQL statement. What this means is that in a `%%sql` block, only the first SQL statement will execute and have the flag applied to it. In addition, any SQL in a `%%sql` block that generates output will terminate the block.\n",
    "\n",
    "   - `-j` - JSON: Create a pretty JSON representation. Only the first column is formatted\n",
    "   - `-pb` - Plot Bar: Plot the results as a bar chart\n",
    "   - `-pl` - Plot Line: Plot the results as a line chart\n",
    "   - `-pp` - Plot Pie: Plot the results as a pie chart\n",
    "   - `-i`  - Interactive plot mode (Only available if you install Pixiedust)\n",
    "\n",
    "\n",
    "<p>\n",
    "You can pass python variables to the `%sql` or `%%sql` command by using a colon `:` before the name of the variable. Note that you will need to place proper punctuation around the variable in the event the\n",
    "SQL command requires it. For instance, the following example will find employee '000010' in the EMPLOYEE table.\n",
    "<pre>\n",
    "empno = '000010'\n",
    "%sql SELECT LASTNAME FROM EMPLOYEE WHERE EMPNO=':empno'\n",
    "</pre>"
   ]
  },
  {
   "cell_type": "markdown",
   "metadata": {},
   "source": [
    "Before we run any SQL commands against Db2, we must load the `db2re.ipynb` library."
   ]
  },
  {
   "cell_type": "code",
   "execution_count": null,
   "metadata": {},
   "outputs": [],
   "source": [
    "%run db2re.ipynb"
   ]
  },
  {
   "cell_type": "markdown",
   "metadata": {},
   "source": [
    "## Connecting to Db2\n",
    "\n",
    "Before any SQL commands can be issued, a connection needs to be made to the Db2 database that you will be using.\n",
    "\n",
    "The CONNECT command has the following format:\n",
    "```\n",
    "%sql CONNECT CREDENTIALS <variable>\n",
    "%sql CONNECT AUTOCONNECT ON | OFF\n",
    "```\n",
    "\n",
    "The CREDENTIALS can be supplied as a variable in which case the contents will be used to create an access token to the database. If the connection is successful, the contents of the variable will be saved to disk for future use. If you create another notebook you can use the identical syntax but you will not have to define the variable beforehand - it will be loaded from disk. \n",
    "\n",
    "You should assign the credentials to a variable that represents the database (or schema) that you are communicating with. Using familiar names makes it easier to remember the credentials when connecting. For example, if the credentials are assigned to a variable called sample:\n",
    "\n",
    "```python\n",
    "sample = \\\n",
    "{\n",
    "... credentials ...\n",
    "}\n",
    "``` \n",
    "\n",
    "Then the connect statement would be:\n",
    "\n",
    "```\n",
    "%sql connect credentials sample\n",
    "```\n",
    "\n",
    "\n",
    "By default, the program will generate an access token for every SQL statement issued (AUTOCONNECT ON). This will generate additional overhead because one extra RESTful call is required before issuing an SQL statement. However, this guarantees that you will always be able to issue the SQL statement. If you turn AUTOCONNECT OFF, the program will generate an access token when you connect, but will never generate an access token after that point. Since tokens expire after a period of time, your SQL calls may stop working. The error code will indicate an authentication error, so you will need to reissue the CONNECT CREDENTIALS statement again to allow the statement to execute."
   ]
  },
  {
   "cell_type": "markdown",
   "metadata": {},
   "source": [
    "Enter your Db2 Credentials in the cell below before issuing the `CONNECT` statement. If you have connected in a previous notebook then the credentials will have been saved with the same name as the variable you supplied."
   ]
  },
  {
   "cell_type": "code",
   "execution_count": null,
   "metadata": {
    "collapsed": true
   },
   "outputs": [],
   "source": [
    "db2id = \\\n"
   ]
  },
  {
   "cell_type": "markdown",
   "metadata": {},
   "source": [
    "Request a connection token to the database and turn `AUTOCONNECT OFF` to reduce overhead. Note that if you come back to this notebook at a later time, you may have to re-connect due to connection tokens expiring."
   ]
  },
  {
   "cell_type": "code",
   "execution_count": null,
   "metadata": {},
   "outputs": [],
   "source": [
    "%sql connect credentials db2id"
   ]
  },
  {
   "cell_type": "markdown",
   "metadata": {},
   "source": [
    "## Line versus Cell Command\n",
    "The Db2 extension is made up of one magic command that works either at the LINE level (`%sql`) or at the CELL level (`%%sql`). If you only want to execute a SQL command on one line in your script, use the `%sql` form of the command. If you want to run a larger block of SQL, then use the `%%sql` form. Note that when you use the `%%sql` form of the command, the entire contents of the cell is considered part of the command, so you cannot mix other commands in the cell.\n",
    "\n",
    "The following is an example of a line command:"
   ]
  },
  {
   "cell_type": "code",
   "execution_count": null,
   "metadata": {
    "collapsed": true
   },
   "outputs": [],
   "source": [
    "%sql VALUES 'HELLO THERE'"
   ]
  },
  {
   "cell_type": "markdown",
   "metadata": {},
   "source": [
    "If you have SQL that requires multiple lines, of if you need to execute many lines of SQL, then you should \n",
    "be using the CELL version of the `%sql` command. To start a block of SQL, start the cell with `%%sql` and do not place any SQL following the command. Subsequent lines can contain SQL code, with each SQL statement delimited with the semicolon (`;`). You can change the delimiter if required for procedures, etc... More details on this later."
   ]
  },
  {
   "cell_type": "code",
   "execution_count": null,
   "metadata": {
    "collapsed": true
   },
   "outputs": [],
   "source": [
    "%%sql\n",
    "VALUES\n",
    "  1,\n",
    "  2,\n",
    "  3"
   ]
  },
  {
   "cell_type": "markdown",
   "metadata": {},
   "source": [
    "If you are using a single statement then there is no need to use a delimiter. However, if you are combining a number of commands then you must use the semicolon."
   ]
  },
  {
   "cell_type": "code",
   "execution_count": null,
   "metadata": {
    "collapsed": true
   },
   "outputs": [],
   "source": [
    "%%sql\n",
    "DROP TABLE STUFF;\n",
    "CREATE TABLE STUFF (A INT);\n",
    "INSERT INTO STUFF VALUES\n",
    "  1,2,3;\n",
    "SELECT * FROM STUFF;"
   ]
  },
  {
   "cell_type": "markdown",
   "metadata": {},
   "source": [
    "The script will generate messages and output as it executes. Each SQL statement that generates results will have a table displayed with the result set. If a command is executed, the results of the execution get listed as well. The script you just ran probably generated an error on the DROP table command."
   ]
  },
  {
   "cell_type": "markdown",
   "metadata": {},
   "source": [
    "## Options\n",
    "Both forms of the `%sql` command have options that can be used to change the behavior of the code. For both forms of the command (`%sql`, `%%sql`), the options must be on the same line as the command:\n",
    "<pre>\n",
    "%sql -t ...\n",
    "%%sql -t\n",
    "</pre>\n",
    "\n",
    "The only difference is that the `%sql` command can have SQL following the parameters, while the `%%sql` requires the SQL to be placed on subsequent lines.\n",
    "\n",
    "There are a number of parameters that you can specify as part of the `%sql` statement. \n",
    "\n",
    "* `-d` - Use alternative delimiter\n",
    "* `-q` - Suppress messages \n",
    "* `-j` - JSON formatting of a column\n",
    "* `-a` - Show all output\n",
    "* `-pb` - Bar chart of results\n",
    "* `-pp` - Pie chart of results \n",
    "* `-pl` - Line chart of results\n",
    "* `-i` - Interactive mode with Pixiedust\n",
    "* `-sampledata` Load the database with the sample EMPLOYEE and DEPARTMENT tables\n",
    "* `-r` - Return the results into a variable (list of rows)\n",
    "* `-e` - Echo macro substitution\n",
    "\n",
    "Multiple parameters are allowed on a command line. Each option should be separated by a space:\n",
    "<pre>\n",
    "%sql -a -j ...\n",
    "</pre>\n",
    "\n",
    "A `SELECT` statement will return the results as a dataframe and display the results as a table in the notebook. If you use the assignment statement, the dataframe will be placed into the variable and the results will not be displayed:\n",
    "<pre>\n",
    "r = %sql SELECT * FROM EMPLOYEE\n",
    "</pre>\n",
    "\n",
    "The sections below will explain the options in more detail."
   ]
  },
  {
   "cell_type": "markdown",
   "metadata": {},
   "source": [
    "## Delimiters\n",
    "The default delimiter for all SQL statements is the semicolon. However, this becomes a problem when you try to create a trigger, function, or procedure that uses SQLPL (or PL/SQL). Use the `-d` option to turn the SQL delimiter into the at (`@`) sign and `-q` to suppress error messages. The semi-colon is then ignored as a delimiter.\n",
    "\n",
    "For example, the following SQL will use the `@` sign as the delimiter."
   ]
  },
  {
   "cell_type": "code",
   "execution_count": null,
   "metadata": {
    "collapsed": true
   },
   "outputs": [],
   "source": [
    "%%sql -d -q\n",
    "DROP TABLE STUFF\n",
    "@\n",
    "CREATE TABLE STUFF (A INT)\n",
    "@\n",
    "INSERT INTO STUFF VALUES\n",
    "  1,2,3\n",
    "@\n",
    "SELECT * FROM STUFF\n",
    "@"
   ]
  },
  {
   "cell_type": "markdown",
   "metadata": {},
   "source": [
    "The delimiter change will only take place for the statements following the `%%sql` command. Subsequent cells\n",
    "in the notebook will still use the semicolon. You must use the `-d` option for every cell that needs to use the\n",
    "semicolon in the script."
   ]
  },
  {
   "cell_type": "markdown",
   "metadata": {},
   "source": [
    "## Limiting Result Sets\n",
    "The default number of rows displayed for any result set is 10. You have the option of changing this option when initially connecting to the database. If you want to override the number of rows display you can either update\n",
    "the control variable, or use the -a option. The `-a` option will display all of the rows in the answer set. For instance, the following SQL will only show 10 rows even though we inserted 15 values:"
   ]
  },
  {
   "cell_type": "code",
   "execution_count": null,
   "metadata": {
    "collapsed": true
   },
   "outputs": [],
   "source": [
    "%sql values 1,2,3,4,5,6,7,8,9,10,11,12,13,14,15"
   ]
  },
  {
   "cell_type": "markdown",
   "metadata": {},
   "source": [
    "You will notice that the displayed result will split the visible rows to the first 5 rows and the last 5 rows.\n",
    "Using the `-a` option will display all values in a scrollable table."
   ]
  },
  {
   "cell_type": "code",
   "execution_count": null,
   "metadata": {
    "collapsed": true
   },
   "outputs": [],
   "source": [
    "%sql -a values 1,2,3,4,5,6,7,8,9,10,11,12,13,14,15"
   ]
  },
  {
   "cell_type": "markdown",
   "metadata": {},
   "source": [
    "A special note regarding the output from a `SELECT` statement. If the SQL statement is the last line of a block, the results will be displayed by default (unless you assigned the results to a variable). If the SQL is in the middle of a block of statements, the results will displayed and execution past that point will stop.\n"
   ]
  },
  {
   "cell_type": "code",
   "execution_count": null,
   "metadata": {
    "collapsed": true
   },
   "outputs": [],
   "source": [
    "%%sql\n",
    "values 'First Line';\n",
    "values 'Second Line';"
   ]
  },
  {
   "cell_type": "markdown",
   "metadata": {},
   "source": [
    "## Quiet Mode\n",
    "Every SQL statement will result in some output. You will either get an answer set (`SELECT`), or an indication if\n",
    "the command worked. For instance, the following set of SQL will generate some error messages since the tables \n",
    "will probably not exist:"
   ]
  },
  {
   "cell_type": "code",
   "execution_count": null,
   "metadata": {
    "collapsed": true
   },
   "outputs": [],
   "source": [
    "%%sql\n",
    "DROP TABLE TABLE_NOT_FOUND;\n",
    "DROP TABLE TABLE_SPELLED_WRONG;"
   ]
  },
  {
   "cell_type": "markdown",
   "metadata": {},
   "source": [
    "If you know that these errors may occur you can silence them with the -q option."
   ]
  },
  {
   "cell_type": "code",
   "execution_count": null,
   "metadata": {
    "collapsed": true
   },
   "outputs": [],
   "source": [
    "%%sql -q\n",
    "DROP TABLE TABLE_NOT_FOUND;\n",
    "DROP TABLE TABLE_SPELLED_WRONG;"
   ]
  },
  {
   "cell_type": "markdown",
   "metadata": {},
   "source": [
    "SQL output will not be suppressed, so the following command will still show the results."
   ]
  },
  {
   "cell_type": "code",
   "execution_count": null,
   "metadata": {
    "collapsed": true
   },
   "outputs": [],
   "source": [
    "%%sql -q\n",
    "DROP TABLE TABLE_NOT_FOUND;\n",
    "DROP TABLE TABLE_SPELLED_WRONG;\n",
    "VALUES 1,2,3;"
   ]
  },
  {
   "cell_type": "markdown",
   "metadata": {},
   "source": [
    "## Variables in %sql Blocks"
   ]
  },
  {
   "cell_type": "markdown",
   "metadata": {},
   "source": [
    "The `%sql` syntax allows you to pass local variables to a script. You can pass python variables to the `%sql` or `%%sql` command by using a colon `:` before the name of the variable. Note that you will need to place proper punctuation around the variable in the event the SQL command requires it. For instance, the following example will find employee '000010' in the EMPLOYEE table.\n",
    "```\n",
    "empno = '000010'\n",
    "%sql SELECT LASTNAME FROM EMPLOYEE WHERE EMPNO=':empno'\n",
    "```"
   ]
  },
  {
   "cell_type": "code",
   "execution_count": null,
   "metadata": {
    "collapsed": true
   },
   "outputs": [],
   "source": [
    "empno = '000010'\n",
    "%sql SELECT LASTNAME FROM EMPLOYEE WHERE EMPNO=':empno'"
   ]
  },
  {
   "cell_type": "markdown",
   "metadata": {},
   "source": [
    "## JSON Formatting\n",
    "Db2 supports querying JSON that is stored in a column within a table. Standard output would just display the \n",
    "JSON as a string. For instance, the following statement would just return a large string of output."
   ]
  },
  {
   "cell_type": "code",
   "execution_count": null,
   "metadata": {
    "collapsed": true
   },
   "outputs": [],
   "source": [
    "%%sql\n",
    "VALUES \n",
    "      '{\n",
    "      \"empno\":\"000010\",\n",
    "      \"firstnme\":\"CHRISTINE\",\n",
    "      \"midinit\":\"I\",\n",
    "      \"lastname\":\"HAAS\",\n",
    "      \"workdept\":\"A00\",\n",
    "      \"phoneno\":[3978],\n",
    "      \"hiredate\":\"01/01/1995\",\n",
    "      \"job\":\"PRES\",\n",
    "      \"edlevel\":18,\n",
    "      \"sex\":\"F\",\n",
    "      \"birthdate\":\"08/24/1963\",\n",
    "      \"pay\" : {\n",
    "        \"salary\":152750.00,\n",
    "        \"bonus\":1000.00,\n",
    "        \"comm\":4220.00}\n",
    "      }'"
   ]
  },
  {
   "cell_type": "markdown",
   "metadata": {},
   "source": [
    "Adding the -j option to the `%sql` (or `%%sql`) command will format the first column of a return set to better\n",
    "display the structure of the document. Note that if your answer set has additional columns associated with it, they will not be displayed in this format."
   ]
  },
  {
   "cell_type": "code",
   "execution_count": null,
   "metadata": {
    "collapsed": true
   },
   "outputs": [],
   "source": [
    "%%sql -j\n",
    "VALUES \n",
    "      '{\n",
    "      \"empno\":\"000010\",\n",
    "      \"firstnme\":\"CHRISTINE\",\n",
    "      \"midinit\":\"I\",\n",
    "      \"lastname\":\"HAAS\",\n",
    "      \"workdept\":\"A00\",\n",
    "      \"phoneno\":[3978],\n",
    "      \"hiredate\":\"01/01/1995\",\n",
    "      \"job\":\"PRES\",\n",
    "      \"edlevel\":18,\n",
    "      \"sex\":\"F\",\n",
    "      \"birthdate\":\"08/24/1963\",\n",
    "      \"pay\" : {\n",
    "        \"salary\":152750.00,\n",
    "        \"bonus\":1000.00,\n",
    "        \"comm\":4220.00}\n",
    "      }'"
   ]
  },
  {
   "cell_type": "markdown",
   "metadata": {},
   "source": [
    "JSON fields can be inserted into Db2 columns using Python dictionaries. This makes the input and output of JSON fields much simpler. For instance, the following code will create a Python dictionary which is similar to a JSON record."
   ]
  },
  {
   "cell_type": "code",
   "execution_count": null,
   "metadata": {
    "collapsed": true
   },
   "outputs": [],
   "source": [
    "employee = {\n",
    "    \"firstname\" : \"John\",\n",
    "    \"lastname\" : \"Williams\",\n",
    "    \"age\" : 45\n",
    "}"
   ]
  },
  {
   "cell_type": "markdown",
   "metadata": {},
   "source": [
    "The field can be inserted into a character column (or BSON if you use the JSON functions) by doing a direct variable insert."
   ]
  },
  {
   "cell_type": "code",
   "execution_count": null,
   "metadata": {
    "collapsed": true
   },
   "outputs": [],
   "source": [
    "%%sql -q\n",
    "DROP TABLE SHOWJSON;\n",
    "CREATE TABLE SHOWJSON(JSONIN VARCHAR(128));"
   ]
  },
  {
   "cell_type": "markdown",
   "metadata": {},
   "source": [
    "An insert would use quotes around the variable name (with a colon in front) since we need to tell Db2 that this is a string."
   ]
  },
  {
   "cell_type": "code",
   "execution_count": null,
   "metadata": {
    "collapsed": true
   },
   "outputs": [],
   "source": [
    "%%sql -j\n",
    "INSERT INTO SHOWJSON VALUES (':employee');\n",
    "SELECT * FROM SHOWJSON;"
   ]
  },
  {
   "cell_type": "markdown",
   "metadata": {},
   "source": [
    "An assignment statement to a variable will result in an equivalent Python dictionary type being created. Note that we must use the raw `-j` flag to make sure we only get the data and not a data frame."
   ]
  },
  {
   "cell_type": "code",
   "execution_count": null,
   "metadata": {
    "collapsed": true
   },
   "outputs": [],
   "source": [
    "x = %sql -j SELECT * FROM SHOWJSON\n",
    "print(\"First Name is \" + x[0][\"firstname\"] + \" and the last name is \" + x[0]['lastname'])"
   ]
  },
  {
   "cell_type": "markdown",
   "metadata": {},
   "source": [
    "## Plotting\n",
    "Sometimes it would be useful to display a result set as either a bar, pie, or line chart. The first one or two\n",
    "columns of a result set need to contain the values need to plot the information.\n",
    "\n",
    "The three possible plot options are:\n",
    "    \n",
    "* `-pb` - bar chart (x,y)\n",
    "* `-pp` - pie chart (y)\n",
    "* `-pl` - line chart (x,y)\n",
    "\n",
    "The following data will be used to demonstrate the different charting options."
   ]
  },
  {
   "cell_type": "code",
   "execution_count": null,
   "metadata": {
    "collapsed": true
   },
   "outputs": [],
   "source": [
    "%sql values 1,2,3,4,5"
   ]
  },
  {
   "cell_type": "markdown",
   "metadata": {},
   "source": [
    "Since the results only have one column, the pie, line, and bar charts will not have any labels associated with\n",
    "them. The first example is a bar chart."
   ]
  },
  {
   "cell_type": "code",
   "execution_count": null,
   "metadata": {
    "collapsed": true,
    "pixiedust": {
     "displayParams": {
      "handlerId": "dataframe"
     }
    }
   },
   "outputs": [],
   "source": [
    "%sql -pb values 1,2,3,4,5"
   ]
  },
  {
   "cell_type": "markdown",
   "metadata": {},
   "source": [
    "The same data as a pie chart."
   ]
  },
  {
   "cell_type": "code",
   "execution_count": null,
   "metadata": {
    "collapsed": true
   },
   "outputs": [],
   "source": [
    "%sql -pp values 1,2,3,4,5"
   ]
  },
  {
   "cell_type": "markdown",
   "metadata": {},
   "source": [
    "And finally a line chart."
   ]
  },
  {
   "cell_type": "code",
   "execution_count": null,
   "metadata": {
    "collapsed": true,
    "pixiedust": {
     "displayParams": {
      "handlerId": "dataframe"
     }
    },
    "scrolled": true
   },
   "outputs": [],
   "source": [
    "%sql -pl values 1,2,3,4,5"
   ]
  },
  {
   "cell_type": "markdown",
   "metadata": {},
   "source": [
    "If you retrieve two columns of information, the first column is used for the labels (X axis or pie slices) and \n",
    "the second column contains the data. "
   ]
  },
  {
   "cell_type": "code",
   "execution_count": null,
   "metadata": {
    "collapsed": true
   },
   "outputs": [],
   "source": [
    "%sql -pb values ('A',1),('B',2),('C',3),('D',4),('E',5)"
   ]
  },
  {
   "cell_type": "markdown",
   "metadata": {},
   "source": [
    "For a pie chart, the first column is used to label the slices, while the data comes from the second column."
   ]
  },
  {
   "cell_type": "code",
   "execution_count": null,
   "metadata": {
    "collapsed": true
   },
   "outputs": [],
   "source": [
    "%sql -pp values ('A',1),('B',2),('C',3),('D',4),('E',5)"
   ]
  },
  {
   "cell_type": "markdown",
   "metadata": {},
   "source": [
    "Finally, for a line chart, the x contains the labels and the y values are used."
   ]
  },
  {
   "cell_type": "code",
   "execution_count": null,
   "metadata": {
    "collapsed": true
   },
   "outputs": [],
   "source": [
    "%sql -pl values ('A',1),('B',2),('C',3),('D',4),('E',5)"
   ]
  },
  {
   "cell_type": "markdown",
   "metadata": {},
   "source": [
    "The following SQL will plot the number of employees per department."
   ]
  },
  {
   "cell_type": "code",
   "execution_count": null,
   "metadata": {
    "collapsed": true
   },
   "outputs": [],
   "source": [
    "%%sql -pb\n",
    "SELECT WORKDEPT, COUNT(*) \n",
    "  FROM EMPLOYEE\n",
    "GROUP BY WORKDEPT"
   ]
  },
  {
   "cell_type": "markdown",
   "metadata": {},
   "source": [
    "The final option for plotting data is to use interactive mode `-i`. This will display the data using an open-source project called Pixiedust. You can view the results in a table and then interactively create a plot by dragging and dropping column names into the appropriate slot. The next command will place you into interactive mode."
   ]
  },
  {
   "cell_type": "code",
   "execution_count": null,
   "metadata": {
    "collapsed": true,
    "pixiedust": {
     "displayParams": {
      "handlerId": "tableView"
     }
    }
   },
   "outputs": [],
   "source": [
    "%sql -i select * from employee"
   ]
  },
  {
   "cell_type": "markdown",
   "metadata": {},
   "source": [
    "## Sample Data\n",
    "Many of the Db2 notebooks depend on two of the tables that are found in the `SAMPLE` database. Rather than\n",
    "having to create the entire `SAMPLE` database, this option will create and populate the `EMPLOYEE` and \n",
    "`DEPARTMENT` tables in your database. Note that if you already have these tables defined, they will not be dropped."
   ]
  },
  {
   "cell_type": "code",
   "execution_count": null,
   "metadata": {
    "collapsed": true
   },
   "outputs": [],
   "source": [
    "%sql -sampledata"
   ]
  },
  {
   "cell_type": "markdown",
   "metadata": {},
   "source": [
    "## Result Sets \n",
    "By default, any `%sql` block will return the contents of a result set as a table that is displayed in the notebook. The results are displayed using a feature of pandas dataframes. The following select statement demonstrates a simple result set."
   ]
  },
  {
   "cell_type": "code",
   "execution_count": null,
   "metadata": {},
   "outputs": [],
   "source": [
    "%sql select * from employee fetch first 3 rows only"
   ]
  },
  {
   "cell_type": "markdown",
   "metadata": {},
   "source": [
    "You can assign the result set directly to a variable."
   ]
  },
  {
   "cell_type": "code",
   "execution_count": null,
   "metadata": {
    "collapsed": true
   },
   "outputs": [],
   "source": [
    "x = %sql select * from employee fetch first 3 rows only"
   ]
  },
  {
   "cell_type": "markdown",
   "metadata": {},
   "source": [
    "The variable x contains the dataframe that was produced by the `%sql` statement so you access the result set by using this variable or display the contents by just referring to it in a command line."
   ]
  },
  {
   "cell_type": "code",
   "execution_count": null,
   "metadata": {},
   "outputs": [],
   "source": [
    "x"
   ]
  },
  {
   "cell_type": "markdown",
   "metadata": {},
   "source": [
    "There is an additional way of capturing the data through the use of the `-r` flag.\n",
    "<pre>\n",
    "var = %sql -r select * from employee\n",
    "</pre>\n",
    "Rather than returning a dataframe result set, this option will produce a list of rows which includes the names of the columns in the first row. Each row is a list itself. The column names are found in row zero (0) and the data rows start at 1. To access the first column of the first row, you would use var[1][0] to access it."
   ]
  },
  {
   "cell_type": "code",
   "execution_count": null,
   "metadata": {},
   "outputs": [],
   "source": [
    "rows = %sql -r select * from employee fetch first 3 rows only\n",
    "print(rows[1][0])"
   ]
  },
  {
   "cell_type": "markdown",
   "metadata": {},
   "source": [
    "The number of rows in the result set can be determined by using the length function and subtracting one for the header row."
   ]
  },
  {
   "cell_type": "code",
   "execution_count": null,
   "metadata": {},
   "outputs": [],
   "source": [
    "print(len(rows)-1)"
   ]
  },
  {
   "cell_type": "markdown",
   "metadata": {},
   "source": [
    "If you want to iterate over all of the rows and columns, you could use the following Python syntax instead of\n",
    "creating a for loop that goes from 0 to 41."
   ]
  },
  {
   "cell_type": "code",
   "execution_count": null,
   "metadata": {},
   "outputs": [],
   "source": [
    "for row in rows:\n",
    "    line = \"\"\n",
    "    for col in row:\n",
    "        line = line + str(col) + \",\"\n",
    "    print(line)"
   ]
  },
  {
   "cell_type": "markdown",
   "metadata": {},
   "source": [
    "If you don't want the header row, modify the first line to start at the first row instead of row zero."
   ]
  },
  {
   "cell_type": "code",
   "execution_count": null,
   "metadata": {},
   "outputs": [],
   "source": [
    "for row in rows[1:]:\n",
    "    line = \"\"\n",
    "    for col in row:\n",
    "        line = line + str(col) + \",\"\n",
    "    print(line)"
   ]
  },
  {
   "cell_type": "markdown",
   "metadata": {},
   "source": [
    "The data is returned as character string, so if you want to do any arithmetic with these columns, you need to convert them.Since the data may be returned in different formats (like integers), you should use the str() function\n",
    "to convert the values to strings. Otherwise, the concatenation function used in the above example will fail. For\n",
    "instance, the 6th field is a birthdate field. If you retrieve it as an individual value and try and concatenate a string to it, you get the following error."
   ]
  },
  {
   "cell_type": "code",
   "execution_count": null,
   "metadata": {},
   "outputs": [],
   "source": [
    "print(\"Birth Date=\"+rows[1][8])"
   ]
  },
  {
   "cell_type": "markdown",
   "metadata": {},
   "source": [
    "You can fix this problem by adding the str function to convert the date."
   ]
  },
  {
   "cell_type": "code",
   "execution_count": null,
   "metadata": {},
   "outputs": [],
   "source": [
    "print(\"Birth Date=\"+str(rows[1][6]))"
   ]
  },
  {
   "cell_type": "markdown",
   "metadata": {},
   "source": [
    "#### Credits: IBM 2018, George Baklarz [baklarz@ca.ibm.com]"
   ]
  }
 ],
 "metadata": {
  "kernelspec": {
   "display_name": "Python 3",
   "language": "python",
   "name": "python3"
  },
  "language_info": {
   "codemirror_mode": {
    "name": "ipython",
    "version": 3
   },
   "file_extension": ".py",
   "mimetype": "text/x-python",
   "name": "python",
   "nbconvert_exporter": "python",
   "pygments_lexer": "ipython3",
   "version": "3.6.1"
  }
 },
 "nbformat": 4,
 "nbformat_minor": 2
}
