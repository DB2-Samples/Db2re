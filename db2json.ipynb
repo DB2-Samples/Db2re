{
 "cells": [
  {
   "cell_type": "markdown",
   "metadata": {},
   "source": [
    "# Db2 Jupyter Notebook Macros"
   ]
  },
  {
   "cell_type": "markdown",
   "metadata": {},
   "source": [
    "## JSON to BSON"
   ]
  },
  {
   "cell_type": "code",
   "execution_count": null,
   "metadata": {
    "collapsed": true
   },
   "outputs": [],
   "source": [
    "%%sql macro j2b\n",
    "  if {argc} != 1\n",
    "     echo Syntax: %j2b(value)\n",
    "     exit\n",
    "  endif\n",
    "SYSTOOLS.JSON2BSON({1})"
   ]
  },
  {
   "cell_type": "markdown",
   "metadata": {},
   "source": [
    "## BSON to JSON"
   ]
  },
  {
   "cell_type": "code",
   "execution_count": null,
   "metadata": {
    "collapsed": true
   },
   "outputs": [],
   "source": [
    "%%sql macro b2j\n",
    "   if {argc} != 1\n",
    "      echo Syntax: %b2j(value)\n",
    "      exit\n",
    "   endif\n",
    "SYSTOOLS.BSON2JSON({1})"
   ]
  },
  {
   "cell_type": "markdown",
   "metadata": {},
   "source": [
    "## JSON String Column"
   ]
  },
  {
   "cell_type": "code",
   "execution_count": null,
   "metadata": {
    "collapsed": true
   },
   "outputs": [],
   "source": [
    "%%sql macro js\n",
    "   if {argc} = 3\n",
    "       TRIM(LEFT(JSON_VAL({1},'{2}','s:{3}'),{3}))\n",
    "   else\n",
    "       echo Syntax: #js( json_column, field ,column_size] )\n",
    "       exit\n",
    "   endif"
   ]
  },
  {
   "cell_type": "markdown",
   "metadata": {},
   "source": [
    "## JSON Integer Column"
   ]
  },
  {
   "cell_type": "code",
   "execution_count": null,
   "metadata": {
    "collapsed": true
   },
   "outputs": [],
   "source": [
    "%%sql macro ji\n",
    "   if {argc} = 2\n",
    "       JSON_VAL({1},'{2}','i')\n",
    "   else  \n",
    "       echo Syntax: #ji( [json_column,] field )\n",
    "       exit\n",
    "   endif"
   ]
  },
  {
   "cell_type": "markdown",
   "metadata": {},
   "source": [
    "## JSON Decimal Column"
   ]
  },
  {
   "cell_type": "code",
   "execution_count": null,
   "metadata": {
    "collapsed": true
   },
   "outputs": [],
   "source": [
    "%%sql macro jd\n",
    "   if {argc} = 3\n",
    "       CAST (JSON_VAL({1},'{2}','n') AS DECIMAL({3}))\n",
    "   else\n",
    "       echo Syntax: #jd( json_column, field ,'precision,scale')\n",
    "       exit\n",
    "   endif"
   ]
  },
  {
   "cell_type": "markdown",
   "metadata": {},
   "source": [
    "## JSON Date Column"
   ]
  },
  {
   "cell_type": "code",
   "execution_count": null,
   "metadata": {
    "collapsed": true
   },
   "outputs": [],
   "source": [
    "%%sql macro jdate\n",
    "   if {argc} = 2  \n",
    "      CAST (JSON_VAL({1},'{2}','s:10') AS DATE)\n",
    "   else\n",
    "       echo Syntax: #jdate( [json_column,] field )\n",
    "       exit\n",
    "   endif"
   ]
  },
  {
   "cell_type": "markdown",
   "metadata": {},
   "source": [
    "## JSON Array Macro"
   ]
  },
  {
   "cell_type": "code",
   "execution_count": null,
   "metadata": {
    "collapsed": true
   },
   "outputs": [],
   "source": [
    "%%sql macro jsonarray \n",
    "if {argc} < 4\n",
    "    echo Syntax: jsonarray(table_name, pk, json_column, array [,where=\"optional where clause\"])\n",
    "    exit\n",
    "endif\n",
    "var table {1}\n",
    "var pk {2}\n",
    "var js_column {3}\n",
    "var array {4}\n",
    "\n",
    "jsonarray(pk,item) as \n",
    "   (\n",
    "    select {pk},systools.json2bson(items.value) \n",
    "      from {table}, \n",
    "        table( systools.json_table({js_column},'{array}','s:2048') ) as items\n",
    "    if {where} <> null\n",
    "      where {where} \n",
    "    endif  \n",
    "   )"
   ]
  },
  {
   "cell_type": "markdown",
   "metadata": {},
   "source": [
    "#### Credits: IBM 2018, George Baklarz [baklarz@ca.ibm.com]"
   ]
  }
 ],
 "metadata": {
  "kernelspec": {
   "display_name": "Python 3",
   "language": "python",
   "name": "python3"
  },
  "language_info": {
   "codemirror_mode": {
    "name": "ipython",
    "version": 3
   },
   "file_extension": ".py",
   "mimetype": "text/x-python",
   "name": "python",
   "nbconvert_exporter": "python",
   "pygments_lexer": "ipython3",
   "version": "3.6.1"
  }
 },
 "nbformat": 4,
 "nbformat_minor": 2
}
