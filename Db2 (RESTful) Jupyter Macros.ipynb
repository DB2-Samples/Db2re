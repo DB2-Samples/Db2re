{
 "cells": [
  {
   "cell_type": "markdown",
   "metadata": {},
   "source": [
    "# Db2 (RESTful) Macros\n",
    "The `%sql` command also allows the use of macros. Macros are used to substitute text into SQL commands that you execute. Macros substitution is done before any SQL is executed. This allows you to create macros that include commonly used SQL commands or parameters rather than having to type them in. Before using any macros, we must make sure we have loaded the Db2 extensions."
   ]
  },
  {
   "cell_type": "code",
   "execution_count": null,
   "metadata": {
    "collapsed": true
   },
   "outputs": [],
   "source": [
    "%run db2re.ipynb"
   ]
  },
  {
   "cell_type": "markdown",
   "metadata": {},
   "source": [
    "Enter your Db2 Credentials in the cell below before issuing the `CONNECT` statement. If you have connected in a previous notebook then the credentials will have been saved with the same name as the variable you supplied."
   ]
  },
  {
   "cell_type": "code",
   "execution_count": null,
   "metadata": {
    "collapsed": true
   },
   "outputs": [],
   "source": [
    "db2id = \\\n"
   ]
  },
  {
   "cell_type": "markdown",
   "metadata": {},
   "source": [
    "Request a connection token to the database and turn `AUTOCONNECT OFF` to reduce overhead. Note that if you come back to this notebook at a later time, you may have to re-connect due to connection tokens expiring."
   ]
  },
  {
   "cell_type": "code",
   "execution_count": null,
   "metadata": {
    "collapsed": true
   },
   "outputs": [],
   "source": [
    "%sql connect credentials db2id"
   ]
  },
  {
   "cell_type": "markdown",
   "metadata": {},
   "source": [
    "### Macro Basics\n",
    "A Macro command begins with a percent sign (`%` similar to the `%sql` magic command) and can be found anywhere within a `%sql` line or `%%sql` block. Macros must be separated from other text in the SQL with a space. \n",
    "\n",
    "To define a macro, the `%%sql macro <name>` command is used. The body of the macro is found in the cell below the definition of the macro. This simple macro called EMPTABLE will substitute a SELECT statement into a SQL block."
   ]
  },
  {
   "cell_type": "code",
   "execution_count": null,
   "metadata": {
    "collapsed": true
   },
   "outputs": [],
   "source": [
    "%%sql macro emptable\n",
    "select * from employee"
   ]
  },
  {
   "cell_type": "markdown",
   "metadata": {},
   "source": [
    "The name of the macro follows the `%%sql macro` command and is case sensitive. To use the macro, we can place it anywhere in the `%sql` block. This first example uses it by itself."
   ]
  },
  {
   "cell_type": "code",
   "execution_count": null,
   "metadata": {
    "collapsed": true
   },
   "outputs": [],
   "source": [
    "%sql %emptable"
   ]
  },
  {
   "cell_type": "markdown",
   "metadata": {},
   "source": [
    "The actual SQL that is generated is not shown by default. If you do want to see the SQL that gets generated, you can use the `-e` (echo) option to display the final SQL statement. The following example will display the generated SQL. Note that the echo setting is only used to display results for the current cell that is executing."
   ]
  },
  {
   "cell_type": "code",
   "execution_count": null,
   "metadata": {
    "collapsed": true
   },
   "outputs": [],
   "source": [
    "%%sql -e\n",
    "%emptable"
   ]
  },
  {
   "cell_type": "markdown",
   "metadata": {},
   "source": [
    "Since we can use the `%emptable` anywhere in our SQL, we can add additional commands around it. In this example we add some logic to the select statement (Note we haven't used the display option here)."
   ]
  },
  {
   "cell_type": "code",
   "execution_count": null,
   "metadata": {
    "collapsed": true
   },
   "outputs": [],
   "source": [
    "%%sql\n",
    "%emptable\n",
    "where empno = '000010'"
   ]
  },
  {
   "cell_type": "markdown",
   "metadata": {},
   "source": [
    "Macros can also have parameters supplied to them. The parameters are included after the name of the macro. Here is a simple macro which will use the first parameter as the name of the column we want returned from the EMPLOYEE table."
   ]
  },
  {
   "cell_type": "code",
   "execution_count": null,
   "metadata": {
    "collapsed": true
   },
   "outputs": [],
   "source": [
    "%%sql macro emptable\n",
    "SELECT {1} FROM EMPLOYEE"
   ]
  },
  {
   "cell_type": "markdown",
   "metadata": {},
   "source": [
    "This example illustrates two concepts. The `MACRO` command will replace any existing macro with the same name. Since we already have an emptable macro, the macro body will be replaced with this code. In addition, macros only exist for the duration of your notebook. If you create another Jupyter notebook, it will not contain any macros that you may have created. If there are macros that you want to share across notebooks, you should create a separate notebook and place all of the macro definitions in there. Then you can include these macros by executing the `%run` command using the name of the notebook that contains the macros.\n",
    "\n",
    "The following SQL shows the use of the macro with parameters."
   ]
  },
  {
   "cell_type": "code",
   "execution_count": null,
   "metadata": {
    "collapsed": true
   },
   "outputs": [],
   "source": [
    "%%sql\n",
    "%emptable(lastname)"
   ]
  },
  {
   "cell_type": "markdown",
   "metadata": {},
   "source": [
    "The remainder of this notebook will explore the advanced features of macros."
   ]
  },
  {
   "cell_type": "markdown",
   "metadata": {},
   "source": [
    "## Macro Parameters\n",
    "Macros can have up to 9 parameters supplied to them. The parameters are numbered from 1 to 9, left to right in the argument list for the macro. For instance, the following macro has 5 paramters:\n",
    "```\n",
    "%emptable(lastname,firstnme,salary,bonus,'000010')\n",
    "```\n",
    "Parameters are separated by commas, and can contain strings as shown using single or double quotes. When the parameters are used within a macro, the quotes are not included as part of the string. If you do want to pass the quotes as part of the parameter, use square brackets **[]** around the string. For instance, the following parameter will not have quotes passed to the macro:\n",
    "\n",
    "```python\n",
    "%sql %abc('no quotes')\n",
    "```\n",
    "\n",
    "To send the string with quotes, you could surround the parameter with other quotes **`\"'hello'\"`** or use the following technique if you use multiple quotes in your string:\n",
    "\n",
    "```python\n",
    "%sql %abc (['quotes'])\n",
    "```\n",
    "\n",
    "To use a parameter within your macro, you enclose the parameter number with braces `{}`. The next command will illustrate the use of the five parameters."
   ]
  },
  {
   "cell_type": "code",
   "execution_count": null,
   "metadata": {
    "collapsed": true
   },
   "outputs": [],
   "source": [
    "%%sql macro emptable\n",
    "display on\n",
    "SELECT {1},{2},{3},{4} \n",
    "FROM EMPLOYEE\n",
    "WHERE EMPNO = '{5}'"
   ]
  },
  {
   "cell_type": "markdown",
   "metadata": {},
   "source": [
    "Note that the `EMPNO` field is a character field in the `EMPLOYEE` table. Even though the employee number was supplied as a string, the quotes are not included in the parameter. The macro places quotes around the parameter `{5}` so that it is properly used in the SQL statement. The other feature of this macro is that the display (on) command is part of the macro body so the generated SQL will always be displayed."
   ]
  },
  {
   "cell_type": "code",
   "execution_count": null,
   "metadata": {
    "collapsed": true
   },
   "outputs": [],
   "source": [
    "%sql %emptable(lastname,firstnme,salary,bonus,'000010')"
   ]
  },
  {
   "cell_type": "markdown",
   "metadata": {},
   "source": [
    "We can modify the macro to assume that the parameters will include the quotes in the string."
   ]
  },
  {
   "cell_type": "code",
   "execution_count": null,
   "metadata": {
    "collapsed": true
   },
   "outputs": [],
   "source": [
    "%%sql macro emptable\n",
    "SELECT {1},{2},{3},{4} \n",
    "FROM EMPLOYEE\n",
    "WHERE EMPNO = {5}"
   ]
  },
  {
   "cell_type": "markdown",
   "metadata": {},
   "source": [
    "We just have to make sure that the quotes are part of the parameter now."
   ]
  },
  {
   "cell_type": "code",
   "execution_count": null,
   "metadata": {
    "collapsed": true
   },
   "outputs": [],
   "source": [
    "%sql -e %emptable(lastname,firstnme,salary,bonus,\"'000010'\")"
   ]
  },
  {
   "cell_type": "markdown",
   "metadata": {},
   "source": [
    "We could use the square brackets as an alternative way of passing the parameter."
   ]
  },
  {
   "cell_type": "code",
   "execution_count": null,
   "metadata": {
    "collapsed": true
   },
   "outputs": [],
   "source": [
    "%sql -e %emptable(lastname,firstnme,salary,bonus,['000010'])"
   ]
  },
  {
   "cell_type": "markdown",
   "metadata": {},
   "source": [
    "Parameters can also be named in a macro. To name an input value, the macro needs to use the format:\n",
    "```\n",
    "field=value\n",
    "```\n",
    "For instance, the following macro call will have 2 numbered parameters and one named parameter:\n",
    "```\n",
    "%showemp(firstnme,lastname,logic=\"WHERE EMPNO='000010'\")\n",
    "```\n",
    "From within the macro the parameter count would be 2 and the value for parameter 1 is `firstnme`, and the value for parameter 2 is `lastname`. Since we have a named parameter, it is not included in the list of numbered parameters. In fact, the following statement is equivalent since unnamed parameters are numbered in the order that they are found in the macro, ignoring any named parameters that are found:\n",
    "```\n",
    "%showemp(firstnme,logic=\"WHERE EMPNO='000010'\",lastname)\n",
    "```\n",
    "The following macro illustrates this feature."
   ]
  },
  {
   "cell_type": "code",
   "execution_count": null,
   "metadata": {
    "collapsed": true
   },
   "outputs": [],
   "source": [
    "%%sql macro showemp\n",
    "SELECT {1},{2} FROM EMPLOYEE\n",
    "  {logic}"
   ]
  },
  {
   "cell_type": "code",
   "execution_count": null,
   "metadata": {
    "collapsed": true
   },
   "outputs": [],
   "source": [
    "%sql %showemp(firstnme,lastname,logic=\"WHERE EMPNO='000010'\")"
   ]
  },
  {
   "cell_type": "code",
   "execution_count": null,
   "metadata": {
    "collapsed": true
   },
   "outputs": [],
   "source": [
    "%sql %showemp(firstnme,logic=\"WHERE EMPNO='000010'\",lastname)"
   ]
  },
  {
   "cell_type": "markdown",
   "metadata": {},
   "source": [
    "Named parameters are useful when there are many options within the macro and you don't want to keep track of which position it is in. In addition, if you have a variable number of parameters, you should use named parameters for the fixed (required) parameters and numbered parameters for the optional ones."
   ]
  },
  {
   "cell_type": "markdown",
   "metadata": {},
   "source": [
    "## Macro Coding Overview\n",
    "Macros can contain any type of text, including SQL commands. In addition to the text, macros can also contain the following keywords:\n",
    "\n",
    "* echo - Display a message\n",
    "* exit - Exit the macro immediately\n",
    "* if/else/endif - Conditional logic\n",
    "* var - Set a variable\n",
    "* display - Turn the display of the final text on\n",
    "\n",
    "The only restriction with macros is that macros cannot be nested. This means I can't call a macro from within a macro. The sections below explain the use of each of these statement types."
   ]
  },
  {
   "cell_type": "markdown",
   "metadata": {},
   "source": [
    "### Echo Option\n",
    "The `-e` option will result in the final SQL being display after the macro substitution is done. \n",
    "```\n",
    "%%sql -e\n",
    "%showemp(...)\n",
    "```"
   ]
  },
  {
   "cell_type": "code",
   "execution_count": null,
   "metadata": {
    "collapsed": true
   },
   "outputs": [],
   "source": [
    "%%sql macro showdisplay\n",
    "SELECT * FROM EMPLOYEE FETCH FIRST ROW ONLY"
   ]
  },
  {
   "cell_type": "markdown",
   "metadata": {},
   "source": [
    "Using the `-e` flag will display the final SQL that is run."
   ]
  },
  {
   "cell_type": "code",
   "execution_count": null,
   "metadata": {
    "collapsed": true
   },
   "outputs": [],
   "source": [
    "%sql -e %showdisplay"
   ]
  },
  {
   "cell_type": "markdown",
   "metadata": {},
   "source": [
    "If we remove the `-e` option, the final SQL will not be shown."
   ]
  },
  {
   "cell_type": "code",
   "execution_count": null,
   "metadata": {
    "collapsed": true
   },
   "outputs": [],
   "source": [
    "%sql %showdisplay"
   ]
  },
  {
   "cell_type": "markdown",
   "metadata": {},
   "source": [
    "### Exit Command\n",
    "The `exit` command will terminate the processing within a macro and not run the generated SQL. You would use this when a condition is not met within the macro (like a missing parameter). "
   ]
  },
  {
   "cell_type": "code",
   "execution_count": null,
   "metadata": {
    "collapsed": true
   },
   "outputs": [],
   "source": [
    "%%sql macro showexit\n",
    "echo This message gets shown\n",
    "SELECT * FROM EMPLOYEE FETCH FIRST ROW ONLY\n",
    "exit\n",
    "echo This message does not get shown"
   ]
  },
  {
   "cell_type": "markdown",
   "metadata": {},
   "source": [
    "The macro that was defined will not show the second statement, nor will it execute the SQL that was defined in the macro body."
   ]
  },
  {
   "cell_type": "code",
   "execution_count": null,
   "metadata": {
    "collapsed": true
   },
   "outputs": [],
   "source": [
    "%sql %showexit"
   ]
  },
  {
   "cell_type": "markdown",
   "metadata": {},
   "source": [
    "### Echo Command\n",
    "As you already noticed in the previous example, the `echo` command will display information on the screen. Any text following the command will have variables substituted and then displayed with a green box surrounding it. The following code illustates the use of the command."
   ]
  },
  {
   "cell_type": "code",
   "execution_count": null,
   "metadata": {
    "collapsed": true
   },
   "outputs": [],
   "source": [
    "%%sql macro showecho\n",
    "echo Here is a message\n",
    "echo Two lines are shown"
   ]
  },
  {
   "cell_type": "markdown",
   "metadata": {},
   "source": [
    "The echo command will show each line as a separate box."
   ]
  },
  {
   "cell_type": "code",
   "execution_count": null,
   "metadata": {
    "collapsed": true
   },
   "outputs": [],
   "source": [
    "%sql %showecho"
   ]
  },
  {
   "cell_type": "markdown",
   "metadata": {},
   "source": [
    "If you want to have a message go across multiple lines use the `<br>` to start a new line."
   ]
  },
  {
   "cell_type": "code",
   "execution_count": null,
   "metadata": {
    "collapsed": true
   },
   "outputs": [],
   "source": [
    "%%sql macro showecho\n",
    "echo Here is a paragraph. <br> And a final paragraph."
   ]
  },
  {
   "cell_type": "code",
   "execution_count": null,
   "metadata": {
    "collapsed": true
   },
   "outputs": [],
   "source": [
    "%sql %showecho"
   ]
  },
  {
   "cell_type": "markdown",
   "metadata": {},
   "source": [
    "### Var Command\n",
    "The var (variable) command sets a macro variable to a value. A variable is referred to in the macro script using curly braces `{name}`. By default the arguments that are used in the macro call are assigned the variable names `{1}` to `{9}`. If you use a named argument (option=\"value\") in the macro call, a variable called `{option}` will contain the value within the macro.\n",
    "\n",
    "To set a variable within a macro you would use the `var` command:\n",
    "```\n",
    "var name value\n",
    "```\n",
    "The variable name can be any name as long as it only includes letters, numbers, underscore `_` and `$`. Variable names are case sensitive so `{a}` and `{A}` are different. When the macro finishes executing, the contents of the variables will be lost. If you do want to keep a variable between macros, you should start the name of the variable with a `$` sign:\n",
    "```\n",
    "var $name value\n",
    "```\n",
    "This variable will persist between macro calls."
   ]
  },
  {
   "cell_type": "code",
   "execution_count": null,
   "metadata": {
    "collapsed": true
   },
   "outputs": [],
   "source": [
    "%%sql macro initialize\n",
    "var $hello Hello There \n",
    "var hello You won't see this"
   ]
  },
  {
   "cell_type": "code",
   "execution_count": null,
   "metadata": {
    "collapsed": true
   },
   "outputs": [],
   "source": [
    "%%sql macro runit\n",
    "echo The value of hello is *{hello}*\n",
    "echo {$hello}"
   ]
  },
  {
   "cell_type": "markdown",
   "metadata": {},
   "source": [
    "Calling `runit` will display the variable that was set in the first macro."
   ]
  },
  {
   "cell_type": "code",
   "execution_count": null,
   "metadata": {
    "collapsed": true
   },
   "outputs": [],
   "source": [
    "%sql %initialize\n",
    "%sql %runit"
   ]
  },
  {
   "cell_type": "markdown",
   "metadata": {},
   "source": [
    "A variable can be converted to uppercase by placing the `^` beside the variable name or number. "
   ]
  },
  {
   "cell_type": "code",
   "execution_count": null,
   "metadata": {
    "collapsed": true
   },
   "outputs": [],
   "source": [
    "%%sql macro runit\n",
    "echo The first parameter is {^1}"
   ]
  },
  {
   "cell_type": "code",
   "execution_count": null,
   "metadata": {
    "collapsed": true
   },
   "outputs": [],
   "source": [
    "%sql %runit(Hello There)"
   ]
  },
  {
   "cell_type": "markdown",
   "metadata": {},
   "source": [
    "The string following the variable name can include quotes and these will not be removed. Only quotes that are supplied in a parameter to a macro will have the quotes removed."
   ]
  },
  {
   "cell_type": "code",
   "execution_count": null,
   "metadata": {
    "collapsed": true
   },
   "outputs": [],
   "source": [
    "%%sql macro runit\n",
    "var hello This is a long string without quotes\n",
    "var hello2 'This is a long string with quotes'\n",
    "echo {hello} <br> {hello2}"
   ]
  },
  {
   "cell_type": "code",
   "execution_count": null,
   "metadata": {
    "collapsed": true
   },
   "outputs": [],
   "source": [
    "%sql %runit"
   ]
  },
  {
   "cell_type": "markdown",
   "metadata": {},
   "source": [
    "When passing parameters to a macro, the program will automatically create variables based on whether they are positional parameters (1, 2, ..., n) or named parameters. The following macro will be used to show how parameters are passed to the routine."
   ]
  },
  {
   "cell_type": "code",
   "execution_count": null,
   "metadata": {
    "collapsed": true
   },
   "outputs": [],
   "source": [
    "%%sql macro showvar\n",
    "echo parm1={1} <br>parm2={2} <br>message={message}"
   ]
  },
  {
   "cell_type": "markdown",
   "metadata": {},
   "source": [
    "Calling the macro will show how the variable names get assigned and used."
   ]
  },
  {
   "cell_type": "code",
   "execution_count": null,
   "metadata": {
    "collapsed": true
   },
   "outputs": [],
   "source": [
    "%sql %showvar(parameter 1, another parameter,message=\"Hello World\")"
   ]
  },
  {
   "cell_type": "markdown",
   "metadata": {},
   "source": [
    "If you pass an empty value (or if a variable does not exist), a \"null\" value will be shown."
   ]
  },
  {
   "cell_type": "code",
   "execution_count": null,
   "metadata": {
    "collapsed": true
   },
   "outputs": [],
   "source": [
    "%sql %showvar(1,,message=\"Hello World\")"
   ]
  },
  {
   "cell_type": "markdown",
   "metadata": {},
   "source": [
    "An empty string also returns a null value."
   ]
  },
  {
   "cell_type": "code",
   "execution_count": null,
   "metadata": {
    "collapsed": true
   },
   "outputs": [],
   "source": [
    "%sql %showvar(1,2,message=\"\")"
   ]
  },
  {
   "cell_type": "markdown",
   "metadata": {},
   "source": [
    "Finally, any string that is supplied to the macro will not include the quotes in the variable. The Hello World string will not have quotes when it is displayed:"
   ]
  },
  {
   "cell_type": "code",
   "execution_count": null,
   "metadata": {
    "collapsed": true
   },
   "outputs": [],
   "source": [
    "%sql %showvar(1,2,message=\"Hello World\")"
   ]
  },
  {
   "cell_type": "markdown",
   "metadata": {},
   "source": [
    "You need to supply the quotes in the script or macro when using variables since quotes are stripped from any strings that are supplied."
   ]
  },
  {
   "cell_type": "code",
   "execution_count": null,
   "metadata": {
    "collapsed": true
   },
   "outputs": [],
   "source": [
    "%%sql macro showvar\n",
    "echo parm1={1} <br>parm2={2} <br>message='{message}'"
   ]
  },
  {
   "cell_type": "code",
   "execution_count": null,
   "metadata": {
    "collapsed": true
   },
   "outputs": [],
   "source": [
    "%sql %showvar(1,2,message=\"Hello World\")"
   ]
  },
  {
   "cell_type": "markdown",
   "metadata": {},
   "source": [
    "The count of the total number of parameters passed is found in the `{argc}` variable. You can use this variable to decide whether or not the user has supplied the proper number of arguments or change which code should be executed."
   ]
  },
  {
   "cell_type": "code",
   "execution_count": null,
   "metadata": {
    "collapsed": true
   },
   "outputs": [],
   "source": [
    "%%sql macro showvar\n",
    "echo The number of unnamed parameters is {argc}. The where clause is *{where}*."
   ]
  },
  {
   "cell_type": "markdown",
   "metadata": {},
   "source": [
    "Unnamed parameters are included in the count of arguments while named parameters are ignored."
   ]
  },
  {
   "cell_type": "code",
   "execution_count": null,
   "metadata": {
    "collapsed": true
   },
   "outputs": [],
   "source": [
    "%sql %showvar(1,2,option=nothing,3,4,where=)"
   ]
  },
  {
   "cell_type": "markdown",
   "metadata": {},
   "source": [
    "### If/Else/Endif Command\n",
    "If you need to add conditional logic to your macro then you should use the `if/else/endif` commands. The format of the `if` statement is:\n",
    "```\n",
    "if variable condition value\n",
    "   statements\n",
    "else\n",
    "   statements\n",
    "endif\n",
    "```\n",
    "The else portion is optional, but the block must be closed with the `endif` command. If statements can be nested up to 9 levels deep:\n",
    "```\n",
    "if condition 1\n",
    "   if condition 2\n",
    "      statements\n",
    "   else\n",
    "      if condition 3\n",
    "         statements\n",
    "      end if \n",
    "   endif\n",
    "endif\n",
    "```\n",
    "If the condition in the if clause is true, then anything following the if statement will be executed and included in the final SQL statement. For instance, the following code will create a SQL statement based on the value of parameter 1:\n",
    "```\n",
    "if {1} = null\n",
    "   SELECT * FROM EMPLOYEE\n",
    "else\n",
    "   SELECT {1} FROM EMPLOYEE\n",
    "endif\n",
    "```"
   ]
  },
  {
   "cell_type": "markdown",
   "metadata": {},
   "source": [
    "#### Conditions\n",
    "The `if` statement requires a condition to determine whether or not the block should be executed. The condition uses the following format:\n",
    "```\n",
    "if {variable} condition {variable} | constant | null\n",
    "```\n",
    "`Variable` can be a number from 1 to 9 which represents the argument in the macro list. So `{1}` refers to the first argument. The variable can also be the name of a named parameter or global variable.\n",
    "\n",
    "The condition is one of the following comparison operators:\n",
    "- `=`, `==`: Equal to\n",
    "- `<`: Less than\n",
    "- `>`: Greater than\n",
    "- `<=`,`=<`: Less than or equal to\n",
    "- `>=`, `=>`: Greater than or equal to\n",
    "- `!=`, `<>` : Not equal to\n",
    "\n",
    "The variable or constant will have quotes stripped away before doing the comparison. If you are testing for the existence of a variable, or to check if a variable is empty, use the keyword `null`."
   ]
  },
  {
   "cell_type": "code",
   "execution_count": null,
   "metadata": {
    "collapsed": true
   },
   "outputs": [],
   "source": [
    "%%sql macro showif\n",
    "if {argc} = 0\n",
    "   echo No parameters supplied\n",
    "   if {option} <> null\n",
    "      echo The optional parameter option was set: {option}\n",
    "   endif\n",
    "else\n",
    "   if {argc} = \"1\"\n",
    "       echo One parameter was supplied\n",
    "   else\n",
    "       echo More than one parameter was supplied: {argc}\n",
    "   endif\n",
    "endif"
   ]
  },
  {
   "cell_type": "markdown",
   "metadata": {},
   "source": [
    "Running the previous macro with no parameters will check to see if the option keyword was used."
   ]
  },
  {
   "cell_type": "code",
   "execution_count": null,
   "metadata": {
    "collapsed": true
   },
   "outputs": [],
   "source": [
    "%sql %showif"
   ]
  },
  {
   "cell_type": "markdown",
   "metadata": {},
   "source": [
    "Now include the optional parameter."
   ]
  },
  {
   "cell_type": "code",
   "execution_count": null,
   "metadata": {
    "collapsed": true
   },
   "outputs": [],
   "source": [
    "%sql %showif(option=\"Yes there is an option\")"
   ]
  },
  {
   "cell_type": "markdown",
   "metadata": {},
   "source": [
    "Finally, issue the macro with multiple parameters."
   ]
  },
  {
   "cell_type": "code",
   "execution_count": null,
   "metadata": {
    "collapsed": true
   },
   "outputs": [],
   "source": [
    "%sql %showif(Here,are,a,number,of,parameters)"
   ]
  },
  {
   "cell_type": "markdown",
   "metadata": {},
   "source": [
    "One additional option is available for variable substitution. If the first character of the variable name or parameter number is the `^` symbol, it will uppercase the entire string."
   ]
  },
  {
   "cell_type": "code",
   "execution_count": null,
   "metadata": {
    "collapsed": true
   },
   "outputs": [],
   "source": [
    "%%sql macro showif\n",
    "if {option} <> null\n",
    "   echo The optional parameter option was set: {^option}\n",
    "endif"
   ]
  },
  {
   "cell_type": "code",
   "execution_count": null,
   "metadata": {
    "collapsed": true
   },
   "outputs": [],
   "source": [
    "%sql %showif(option=\"Yes there is an option\")"
   ]
  },
  {
   "cell_type": "markdown",
   "metadata": {},
   "source": [
    "#### Credits: IBM 2018, George Baklarz [baklarz@ca.ibm.com]"
   ]
  }
 ],
 "metadata": {
  "kernelspec": {
   "display_name": "Python 3",
   "language": "python",
   "name": "python3"
  },
  "language_info": {
   "codemirror_mode": {
    "name": "ipython",
    "version": 3
   },
   "file_extension": ".py",
   "mimetype": "text/x-python",
   "name": "python",
   "nbconvert_exporter": "python",
   "pygments_lexer": "ipython3",
   "version": "3.6.1"
  }
 },
 "nbformat": 4,
 "nbformat_minor": 2
}
